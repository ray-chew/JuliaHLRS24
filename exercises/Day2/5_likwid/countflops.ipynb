{
 "cells": [
  {
   "cell_type": "markdown",
   "id": "d062da1c-2716-4750-8f3c-95b0642f7cf1",
   "metadata": {},
   "source": [
    "## Exercise: Use LIKWID to Count FLOPs"
   ]
  },
  {
   "cell_type": "markdown",
   "id": "6cf6c652-bd6c-4a51-b834-a9e04190f74a",
   "metadata": {},
   "source": [
    "First, let's check that LIKWID is working. The following should work and print the supported LIKWID performance groups."
   ]
  },
  {
   "cell_type": "code",
   "execution_count": 1,
   "id": "d85f0708-1d4e-4093-a58b-769caedac4cb",
   "metadata": {
    "tags": []
   },
   "outputs": [],
   "source": [
    "using LIKWID"
   ]
  },
  {
   "cell_type": "code",
   "execution_count": 2,
   "id": "aa3cb648-787a-4eee-9342-e7a09fa432fd",
   "metadata": {
    "tags": []
   },
   "outputs": [
    {
     "data": {
      "text/plain": [
       "Dict{String, LIKWID.GroupInfoCompact} with 29 entries:\n",
       "  \"L2CACHE\"        => L2CACHE => L2 cache miss rate/ratio\n",
       "  \"MEM\"            => MEM => L3 cache bandwidth in MBytes/s\n",
       "  \"CYCLE_ACTIVITY\" => CYCLE_ACTIVITY => Cycle Activities\n",
       "  \"BRANCH\"         => BRANCH => Branch prediction miss rate/ratio\n",
       "  \"FLOPS_SP\"       => FLOPS_SP => Single Precision MFLOP/s\n",
       "  \"RECOVERY\"       => RECOVERY => Recovery duration\n",
       "  \"DIVIDE\"         => DIVIDE => Divide unit information\n",
       "  \"L2\"             => L2 => L2 cache bandwidth in MBytes/s\n",
       "  \"FALSE_SHARE\"    => FALSE_SHARE => False sharing\n",
       "  \"L3\"             => L3 => L3 cache bandwidth in MBytes/s\n",
       "  \"L3CACHE\"        => L3CACHE => L3 cache miss rate/ratio\n",
       "  \"UOPS_EXEC\"      => UOPS_EXEC => UOPs execution\n",
       "  \"CYCLE_STALLS\"   => CYCLE_STALLS => Cycle Activities (Stalls)\n",
       "  \"ICACHE\"         => ICACHE => Instruction cache miss rate/ratio\n",
       "  \"TLB_INSTR\"      => TLB_INSTR => L1 Instruction TLB miss rate/ratio\n",
       "  \"MEM_DP\"         => MEM_DP => Overview of arithmetic and main memory performa…\n",
       "  \"UOPS_ISSUE\"     => UOPS_ISSUE => UOPs issueing\n",
       "  \"PERF\"           => PERF => Perf counters\n",
       "  \"CLOCK\"          => CLOCK => Power and Energy consumption\n",
       "  \"PORT_USAGE\"     => PORT_USAGE => Execution port utilization\n",
       "  \"TMA\"            => TMA => Top down cycle allocation\n",
       "  \"FLOPS_DP\"       => FLOPS_DP => Double Precision MFLOP/s\n",
       "  \"MEM_SP\"         => MEM_SP => Overview of arithmetic and main memory performa…\n",
       "  \"ENERGY\"         => ENERGY => Power and Energy consumption\n",
       "  \"UOPS\"           => UOPS => UOPs execution info\n",
       "  ⋮                => ⋮"
      ]
     },
     "execution_count": 2,
     "metadata": {},
     "output_type": "execute_result"
    }
   ],
   "source": [
    "PerfMon.supported_groups()"
   ]
  },
  {
   "cell_type": "markdown",
   "id": "1d4c6fdf-5b39-4dd8-894d-79e51cce7bee",
   "metadata": {
    "tags": []
   },
   "source": [
    "Great, you're set up!\n",
    "\n",
    "**You can find the instructions for this exercise/tutorial here:**   \n",
    "https://juliaperf.github.io/LIKWID.jl/dev/tutorials/counting_flops/"
   ]
  },
  {
   "cell_type": "code",
   "execution_count": 3,
   "id": "6d13a52c-5252-48bb-b052-5d9b8614a82b",
   "metadata": {
    "tags": []
   },
   "outputs": [
    {
     "name": "stdout",
     "output_type": "stream",
     "text": [
      "\n",
      "Group: \u001b[0m\u001b[1mFLOPS_DP\u001b[22m\n",
      "┌──────────────────────────────────────────┬──────────┐\n",
      "│\u001b[1m                                    Event \u001b[0m│\u001b[1m Thread 1 \u001b[0m│\n",
      "├──────────────────────────────────────────┼──────────┤\n",
      "│                        INSTR_RETIRED_ANY │  10149.0 │\n",
      "│                    CPU_CLK_UNHALTED_CORE │  32480.0 │\n",
      "│                     CPU_CLK_UNHALTED_REF │  94500.0 │\n",
      "│ FP_ARITH_INST_RETIRED_128B_PACKED_DOUBLE │      0.0 │\n",
      "│      FP_ARITH_INST_RETIRED_SCALAR_DOUBLE │      0.0 │\n",
      "│ FP_ARITH_INST_RETIRED_256B_PACKED_DOUBLE │   5000.0 │\n",
      "└──────────────────────────────────────────┴──────────┘\n",
      "┌──────────────────────┬────────────┐\n",
      "│\u001b[1m               Metric \u001b[0m│\u001b[1m   Thread 1 \u001b[0m│\n",
      "├──────────────────────┼────────────┤\n",
      "│  Runtime (RDTSC) [s] │ 3.78731e-5 │\n",
      "│ Runtime unhalted [s] │ 1.25313e-5 │\n",
      "│          Clock [MHz] │    890.852 │\n",
      "│                  CPI │    3.20032 │\n",
      "│         DP [MFLOP/s] │     528.08 │\n",
      "│     AVX DP [MFLOP/s] │     528.08 │\n",
      "│     Packed [MUOPS/s] │     132.02 │\n",
      "│     Scalar [MUOPS/s] │        0.0 │\n",
      "│  Vectorization ratio │      100.0 │\n",
      "└──────────────────────┴────────────┘\n"
     ]
    }
   ],
   "source": [
    "# ...Your code goes here...\n",
    "\n",
    "daxpy!(z, a, x, y) = z .= a .* x .+ y\n",
    "\n",
    "const N = 10_000\n",
    "const a = 3.141\n",
    "const x = rand(N)\n",
    "const y = rand(N)\n",
    "const z = zeros(N)\n",
    "\n",
    "daxpy!(z, a, x, y);\n",
    "\n",
    "using LIKWID\n",
    "metrics, events = @perfmon \"FLOPS_DP\" daxpy!(z, a, x, y);"
   ]
  },
  {
   "cell_type": "code",
   "execution_count": 4,
   "id": "c7f210d4-cec9-4edb-8a76-0203d45ac8ed",
   "metadata": {},
   "outputs": [
    {
     "data": {
      "text/plain": [
       "20000"
      ]
     },
     "execution_count": 4,
     "metadata": {},
     "output_type": "execute_result"
    }
   ],
   "source": [
    "flops_per_second = first(metrics[\"FLOPS_DP\"])[\"DP [MFLOP/s]\"] * 1e6\n",
    "runtime = first(metrics[\"FLOPS_DP\"])[\"Runtime (RDTSC) [s]\"]\n",
    "NFLOPs_actual = round(Int, flops_per_second * runtime)"
   ]
  },
  {
   "cell_type": "code",
   "execution_count": null,
   "id": "69e67a41-556d-49f7-8f76-059a8e07cbfa",
   "metadata": {},
   "outputs": [],
   "source": []
  }
 ],
 "metadata": {
  "kernelspec": {
   "display_name": "Julia 1.10.5",
   "language": "julia",
   "name": "julia-1.10"
  },
  "language_info": {
   "file_extension": ".jl",
   "mimetype": "application/julia",
   "name": "julia",
   "version": "1.10.5"
  }
 },
 "nbformat": 4,
 "nbformat_minor": 5
}
