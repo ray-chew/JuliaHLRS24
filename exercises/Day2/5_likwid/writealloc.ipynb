{
 "cells": [
  {
   "cell_type": "markdown",
   "id": "7ea477f3-ebbe-4c31-978c-bf5f6d06fa96",
   "metadata": {},
   "source": [
    "## Exercise: Write Allocates"
   ]
  },
  {
   "cell_type": "markdown",
   "id": "62fa0dcd-0c30-45d0-9215-211b8be55844",
   "metadata": {},
   "source": [
    "**Ideally, this example should be run on Noctua 1.**"
   ]
  },
  {
   "cell_type": "code",
   "execution_count": 2,
   "id": "33041a28-fdff-4e32-978c-67f9b77e7b74",
   "metadata": {
    "tags": []
   },
   "outputs": [],
   "source": [
    "function striad!(a, b, c, d)\n",
    "    for i in eachindex(a, b, c, d)\n",
    "        a[i] = b[i] + c[i] * d[i]\n",
    "    end\n",
    "    return nothing\n",
    "end\n",
    "\n",
    "N = 1_000_000\n",
    "a = rand(N)\n",
    "b = rand(N)\n",
    "c = rand(N)\n",
    "d = rand(N)\n",
    "\n",
    "striad!(a, b, c, d)"
   ]
  },
  {
   "cell_type": "markdown",
   "id": "b0f48b6f-39ed-4c52-ab5a-5c9cd4189826",
   "metadata": {
    "tags": []
   },
   "source": [
    "1) Looking at the Schoenhauer Triad kernel (i.e. the `striad!` function above),\n",
    "how many LOADs (data reads) and STOREs (data writes) to you expect to happen? Otherwise put, how many bytes do\n",
    "you think will need to be transferred to/from memory?"
   ]
  },
  {
   "cell_type": "markdown",
   "id": "5bf8fe2a-f803-46da-aba3-aa3b711d3372",
   "metadata": {
    "tags": []
   },
   "source": [
    "2) Use LIKWID.jl to empirically measure how much data has been read from / written to memory.\n",
    "  - Hint: Depending on availability, you want to measure the \"DATA\" or \"MEM\" performance group."
   ]
  },
  {
   "cell_type": "code",
   "execution_count": 3,
   "id": "5dd053cd-b081-48e8-a4f0-a0ecaf3003bb",
   "metadata": {
    "tags": []
   },
   "outputs": [],
   "source": [
    "using LIKWID"
   ]
  },
  {
   "cell_type": "code",
   "execution_count": 4,
   "id": "3ce3d98e-a1a8-4bac-8411-677be08d75a6",
   "metadata": {
    "tags": []
   },
   "outputs": [
    {
     "name": "stdout",
     "output_type": "stream",
     "text": [
      "\n",
      "Group: \u001b[0m\u001b[1mDATA\u001b[22m\n",
      "┌─────────────────────────────┬───────────┐\n",
      "│\u001b[1m                       Event \u001b[0m│\u001b[1m  Thread 1 \u001b[0m│\n",
      "├─────────────────────────────┼───────────┤\n",
      "│           INSTR_RETIRED_ANY │ 1.19004e6 │\n",
      "│       CPU_CLK_UNHALTED_CORE │ 3.43582e6 │\n",
      "│        CPU_CLK_UNHALTED_REF │ 8.11652e6 │\n",
      "│  MEM_INST_RETIRED_ALL_LOADS │  751102.0 │\n",
      "│ MEM_INST_RETIRED_ALL_STORES │  250483.0 │\n",
      "└─────────────────────────────┴───────────┘\n",
      "┌──────────────────────┬────────────┐\n",
      "│\u001b[1m               Metric \u001b[0m│\u001b[1m   Thread 1 \u001b[0m│\n",
      "├──────────────────────┼────────────┤\n",
      "│  Runtime (RDTSC) [s] │ 0.00318127 │\n",
      "│ Runtime unhalted [s] │ 0.00132557 │\n",
      "│          Clock [MHz] │     1097.2 │\n",
      "│                  CPI │    2.88713 │\n",
      "│  Load to store ratio │    2.99861 │\n",
      "└──────────────────────┴────────────┘\n"
     ]
    }
   ],
   "source": [
    "# ... Your code goes here ...\n",
    "@perfmon \"DATA\" striad!(a, b, c, d);"
   ]
  },
  {
   "cell_type": "markdown",
   "id": "781bc63e-d60f-4c71-88cd-16ab5bd7596f",
   "metadata": {},
   "source": [
    "3) Which ratio of reads and writes do you find? How many LOADs and STOREs actually happen per iteration?"
   ]
  },
  {
   "cell_type": "markdown",
   "id": "67b67559-465e-450a-a077-c09689807f9f",
   "metadata": {},
   "source": [
    "The reason you might see a higher load/store ratio are so-called \"write-allocates\": On some systems, to write to a piece of memory it has to be loaded to cache first (e.g. by reading from it first). Hence you get one extra LOAD."
   ]
  },
  {
   "cell_type": "markdown",
   "id": "2ef9b535-ac37-4c6d-907b-4c57ab271768",
   "metadata": {},
   "source": [
    "4) In the exercise \"cache_sizes\" we used SDAXPY rather than STRIAD.\n",
    "  * How would the bandwidth values for striad (qualitatively) compare to our\n",
    "    sdaxpy results assuming we didn't account for write-allocates?\n",
    "  * Focusing on data volume rather than data transfer,\n",
    "    how much data is hold for one iteration of sdaxpy and striad, respectively?\n",
    "    Does a factor of this data volume fit nicely into L1 cache (in either case)?"
   ]
  }
 ],
 "metadata": {
  "kernelspec": {
   "display_name": "Julia 1.10.5",
   "language": "julia",
   "name": "julia-1.10"
  },
  "language_info": {
   "file_extension": ".jl",
   "mimetype": "application/julia",
   "name": "julia",
   "version": "1.10.5"
  }
 },
 "nbformat": 4,
 "nbformat_minor": 5
}
