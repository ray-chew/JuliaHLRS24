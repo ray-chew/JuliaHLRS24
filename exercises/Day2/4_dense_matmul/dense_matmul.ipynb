{
 "cells": [
  {
   "cell_type": "markdown",
   "id": "a4dbe083-0c09-4a77-a364-c6991c5b6dae",
   "metadata": {},
   "source": [
    "# Exercise: (Dense) Matrix-Matrix Multiplication\n",
    "\n",
    "In this exercise you will consider dense matrix-matrix multiplication\n",
    "\n",
    "$C_{rc} = \\sum_{k=1}^{n} A_{rk} B_{kc}$\n",
    "\n",
    "for square matrices $A$, $B$, and $C$ of size $n \\times n$. Despite being seemingly simple, you will see that different implementations have vastly different performance.\n",
    "\n",
    "## Tasks"
   ]
  },
  {
   "cell_type": "code",
   "execution_count": 6,
   "id": "b56035a1-a5f8-4299-8d61-208efeaa8c13",
   "metadata": {
    "tags": []
   },
   "outputs": [
    {
     "name": "stderr",
     "output_type": "stream",
     "text": [
      "WARNING: redefinition of constant Main.C. This may fail, cause incorrect answers, or produce other errors.\n",
      "WARNING: redefinition of constant Main.A. This may fail, cause incorrect answers, or produce other errors.\n",
      "WARNING: redefinition of constant Main.B. This may fail, cause incorrect answers, or produce other errors.\n"
     ]
    }
   ],
   "source": [
    "# loading packages\n",
    "using BenchmarkTools\n",
    "using CpuId\n",
    "using Test\n",
    "using LinearAlgebra\n",
    "BLAS.set_num_threads(1)\n",
    "\n",
    "# problem size\n",
    "const N = 512 # tune this if necessary\n",
    "\n",
    "# input (not to be modified)\n",
    "const C = zeros(N, N)\n",
    "const A = rand(N, N)\n",
    "const B = rand(N, N);"
   ]
  },
  {
   "cell_type": "markdown",
   "id": "537c7947-a4ac-4240-a537-aff4301fe27c",
   "metadata": {},
   "source": [
    "1) Benchmark the naive implementation `matmul_naive!` below in GFLOPS (giga floating-point operations per second)."
   ]
  },
  {
   "cell_type": "code",
   "execution_count": 7,
   "id": "24348c5b-c826-4220-8e8a-dee20f474314",
   "metadata": {
    "tags": []
   },
   "outputs": [
    {
     "data": {
      "text/plain": [
       "matmul_naive! (generic function with 1 method)"
      ]
     },
     "execution_count": 7,
     "metadata": {},
     "output_type": "execute_result"
    }
   ],
   "source": [
    "function matmul_naive!(C, A, B)\n",
    "    @assert size(C) == size(A) == size(B)\n",
    "    @assert size(C, 1) == size(C, 2)\n",
    "    n = size(C, 1)\n",
    "    fill!(C, zero(eltype(C)))\n",
    "\n",
    "    # - c: for columns of B and C\n",
    "    # - r: for rows    of A and C\n",
    "    # - k: for columns of A and rows of B\n",
    "    for c in 1:n\n",
    "        for r in 1:n\n",
    "            c_reg = 0.0\n",
    "            for k in 1:n\n",
    "                @inbounds c_reg += A[r, k] * B[k, c]\n",
    "            end\n",
    "            @inbounds C[r, c] = c_reg\n",
    "        end\n",
    "    end\n",
    "    return C\n",
    "end"
   ]
  },
  {
   "cell_type": "markdown",
   "id": "a2865ce0-02de-4575-ac83-426f849ba7c2",
   "metadata": {},
   "source": [
    "**Note: Depending on the value of `N`, the test and benchmark below can take while. You might want to start with task 3 in the meantime.**"
   ]
  },
  {
   "cell_type": "markdown",
   "id": "dc51ae68-0dc2-4fc6-92ac-28283bc4d228",
   "metadata": {},
   "source": [
    "Correctness check:"
   ]
  },
  {
   "cell_type": "code",
   "execution_count": 20,
   "id": "a71b1bf1-382c-4fab-8ebc-54830f1233bd",
   "metadata": {
    "tags": []
   },
   "outputs": [
    {
     "data": {
      "text/plain": [
       "\u001b[32m\u001b[1mTest Passed\u001b[22m\u001b[39m"
      ]
     },
     "execution_count": 20,
     "metadata": {},
     "output_type": "execute_result"
    }
   ],
   "source": [
    "@test matmul_naive!(C, A, B) ≈ mul!(C, A, B) # can take a while"
   ]
  },
  {
   "cell_type": "markdown",
   "id": "48e569d2-e501-49a2-b077-071306dc904b",
   "metadata": {},
   "source": [
    "Benchmark:"
   ]
  },
  {
   "cell_type": "code",
   "execution_count": 9,
   "id": "80e527f9-5dca-4ce8-ad03-399fe10d4c69",
   "metadata": {
    "tags": []
   },
   "outputs": [
    {
     "name": "stdout",
     "output_type": "stream",
     "text": [
      "matmul_naive!: 0.248197698 sec, performance = 1.08 GFLOP/s\n"
     ]
    }
   ],
   "source": [
    "t_naive = @belapsed matmul_naive!($C, $A, $B) samples = 1 evals = 2\n",
    "println(\"matmul_naive!: \", t_naive, \" sec, performance = \", round(2.0e-9 * N^3 / t_naive, digits=2), \" GFLOP/s\")"
   ]
  },
  {
   "cell_type": "markdown",
   "id": "d47fde8a-28bf-45a7-b3ca-3ee63b4be3d3",
   "metadata": {},
   "source": [
    "2) Why is `matmul_naive!` so (super) slow?\n",
    "    * Hints: Look at the memory access pattern of innermost loop.\n",
    "\n",
    "**Answer:** Strided memory access for `A` in `matmul_naive!` reduces the performance. The implementation doesn't take column-major order into consideration."
   ]
  },
  {
   "cell_type": "markdown",
   "id": "70fc8fed-c2dd-4993-a8d6-241650bc7a44",
   "metadata": {},
   "source": [
    "3) Implement an improved version with contiguous memory access (better spatial locality) in `matmul_contiguous!` and benchmark it. How much faster is it?"
   ]
  },
  {
   "cell_type": "code",
   "execution_count": 15,
   "id": "0c8a5bc1-bc5b-4f72-9c5a-0eed49c54f5e",
   "metadata": {
    "tags": []
   },
   "outputs": [
    {
     "data": {
      "text/plain": [
       "matmul_contiguous! (generic function with 1 method)"
      ]
     },
     "execution_count": 15,
     "metadata": {},
     "output_type": "execute_result"
    }
   ],
   "source": [
    "function matmul_contiguous!(C, A, B)\n",
    "    @assert size(C) == size(A) == size(B)\n",
    "    @assert size(C, 1) == size(C, 2)\n",
    "    n = size(C, 1)\n",
    "    fill!(C, zero(eltype(C)))\n",
    "\n",
    "    # - c: for columns of B and C\n",
    "    # - r: for rows    of A and C\n",
    "    # - k: for columns of A and rows of B\n",
    "    \n",
    "    #\n",
    "    # TODO: Implement improved version with more efficient memory access / better localitly.\n",
    "    #       Hint: Which loop should be the innermost?\n",
    "    #\n",
    "    \n",
    "    # @. C = A * B\n",
    "\n",
    "    # for c in 1:n\n",
    "    #     b = B[:, c]\n",
    "    #     for k in 1:n\n",
    "    #         for r in 1:n\n",
    "    #             @inbounds C[r, c] += (A[r, k] .* b[k])\n",
    "    #         end\n",
    "    #     end\n",
    "    # end\n",
    "    return C\n",
    "end"
   ]
  },
  {
   "cell_type": "markdown",
   "id": "d9b5be3f-047e-4b70-8c23-4eb65f12a6d0",
   "metadata": {},
   "source": [
    "Correctness check:"
   ]
  },
  {
   "cell_type": "code",
   "execution_count": 21,
   "id": "c6d0cb45-4b36-4949-82ee-586e86c42204",
   "metadata": {
    "tags": []
   },
   "outputs": [
    {
     "name": "stdout",
     "output_type": "stream",
     "text": [
      "\u001b[91m\u001b[1mTest Failed\u001b[22m\u001b[39m at \u001b[39m\u001b[1mIn[21]:1\u001b[22m\n",
      "  Expression: copy(matmul_contiguous!(C, A, B)) ≈ mul!(C, A, B)\n",
      "   Evaluated: [0.0 0.0 … 0.0 0.0; 0.0 0.0 … 0.0 0.0; … ; 0.0 0.0 … 0.0 0.0; 0.0 0.0 … 0.0 0.0] ≈ [126.08438845457266 132.68806241189964 … 134.60475950448705 128.86331342247638; 123.6475168686562 131.4009019626955 … 131.6755511684123 130.22207491094935; … ; 118.98130068910869 127.5491101869948 … 131.53410731674666 124.74726116447792; 124.0260329545133 126.74451217453299 … 128.34985882266702 127.32766591972555]\n",
      "\n"
     ]
    },
    {
     "ename": "LoadError",
     "evalue": "\u001b[91mThere was an error during testing\u001b[39m",
     "output_type": "error",
     "traceback": [
      "\u001b[91mThere was an error during testing\u001b[39m",
      "",
      "Stacktrace:",
      " [1] record(ts::Test.FallbackTestSet, t::Union{Test.Error, Test.Fail})",
      "   @ Test /mnt/raid/soft/julia/julia-1.10.5/share/julia/stdlib/v1.10/Test/src/Test.jl:1000",
      " [2] do_test(result::Test.ExecutionResult, orig_expr::Any)",
      "   @ Test /mnt/raid/soft/julia/julia-1.10.5/share/julia/stdlib/v1.10/Test/src/Test.jl:705",
      " [3] macro expansion",
      "   @ /mnt/raid/soft/julia/julia-1.10.5/share/julia/stdlib/v1.10/Test/src/Test.jl:672 [inlined]",
      " [4] top-level scope",
      "   @ In[21]:1"
     ]
    }
   ],
   "source": [
    "@test copy(matmul_contiguous!(C, A, B)) ≈ mul!(C, A, B) # this should give true, otherwise your implementation is incorrect.\n",
    "\n",
    "# @show sum(matmul_contiguous!(C, A, B))\n",
    "# @show sum(mul!(C, A, B))"
   ]
  },
  {
   "cell_type": "code",
   "execution_count": 18,
   "id": "1390431d-9d5b-44df-91e1-e729e786df88",
   "metadata": {},
   "outputs": [
    {
     "data": {
      "text/plain": [
       "512×512 Matrix{Float64}:\n",
       " 126.084  132.688  120.809  126.517  …  131.504  127.175  134.605  128.863\n",
       " 123.648  131.401  118.12   129.429     131.001  130.98   131.676  130.222\n",
       " 124.922  130.849  123.256  126.438     137.045  124.035  132.628  128.03\n",
       " 127.266  130.078  122.845  126.342     131.492  126.494  131.338  128.583\n",
       " 124.927  131.26   123.788  127.229     134.051  127.206  136.425  130.598\n",
       " 122.45   125.344  117.718  123.403  …  128.153  124.169  131.73   126.012\n",
       " 126.875  127.568  121.207  126.616     132.813  122.583  127.645  122.984\n",
       " 120.954  130.069  118.156  123.459     129.77   124.397  130.069  130.475\n",
       " 119.626  126.926  119.32   124.873     132.774  124.62   128.507  127.242\n",
       " 125.826  134.069  123.351  124.892     132.215  124.924  132.282  130.713\n",
       " 123.883  131.006  123.115  125.868  …  131.851  124.656  129.923  127.405\n",
       " 124.784  129.797  123.648  123.237     135.095  130.289  131.375  132.202\n",
       " 119.559  132.135  120.952  122.769     129.896  122.814  133.178  126.307\n",
       "   ⋮                                 ⋱                      ⋮      \n",
       " 126.272  129.969  123.489  125.824  …  130.53   124.481  135.306  131.703\n",
       " 123.316  123.011  114.859  120.138     130.602  122.934  126.417  124.662\n",
       " 126.01   132.317  120.878  126.708     132.267  127.38   128.426  125.963\n",
       " 128.586  133.899  126.167  129.566     133.638  130.794  132.421  129.285\n",
       " 125.147  130.141  124.095  124.833     132.085  127.159  133.196  129.174\n",
       " 129.563  131.78   123.628  129.805  …  137.075  128.62   134.134  134.703\n",
       " 115.134  123.878  115.005  117.254     125.533  119.995  124.731  120.614\n",
       " 119.84   122.155  114.719  115.522     123.022  115.638  124.478  119.112\n",
       " 120.865  129.791  117.704  123.053     131.678  123.898  129.325  125.42\n",
       " 125.599  134.985  125.347  127.603     136.137  129.211  134.249  133.928\n",
       " 118.981  127.549  119.608  122.112  …  131.715  123.825  131.534  124.747\n",
       " 124.026  126.745  118.892  123.157     132.455  125.072  128.35   127.328"
      ]
     },
     "execution_count": 18,
     "metadata": {},
     "output_type": "execute_result"
    }
   ],
   "source": [
    "C"
   ]
  },
  {
   "cell_type": "markdown",
   "id": "e6e4da8c-c1e0-4280-a340-d08e4f041c53",
   "metadata": {
    "tags": []
   },
   "source": [
    "Benchmark:"
   ]
  },
  {
   "cell_type": "code",
   "execution_count": 43,
   "id": "a0f6cc29-e742-4b40-a38f-4d9c705522de",
   "metadata": {
    "tags": []
   },
   "outputs": [
    {
     "name": "stdout",
     "output_type": "stream",
     "text": [
      "matmul_contiguous!: 0.0003237725 sec, performance = 829.09 GFLOP/s\n"
     ]
    }
   ],
   "source": [
    "#\n",
    "# TODO: Benchmark like matmul_naive! above\n",
    "#\n",
    "t_contiguous = @belapsed matmul_contiguous!($C, $A, $B) samples = 1 evals = 2\n",
    "println(\"matmul_contiguous!: \", t_contiguous, \" sec, performance = \", round(2.0e-9 * N^3 / t_contiguous, digits=2), \" GFLOP/s\")"
   ]
  },
  {
   "cell_type": "markdown",
   "id": "c066927e-1958-4c53-a386-31f628cd015a",
   "metadata": {},
   "source": [
    "### Cache Blocking\n",
    "\n",
    "The key idea of cache blocking is to perform the overall matrix-matrix multiplication in terms of smaller matrix-matrix multiplications of sub-blocks.\n",
    "\n",
    "<img src=\"./imgs/dMMM_cache_blocking.png\" width=800>\n",
    "<br>"
   ]
  },
  {
   "cell_type": "code",
   "execution_count": 95,
   "id": "124c1234-ee8a-4d2a-90ae-977374b3ded7",
   "metadata": {
    "tags": []
   },
   "outputs": [
    {
     "data": {
      "text/plain": [
       "matmul_cache_blocking! (generic function with 1 method)"
      ]
     },
     "execution_count": 95,
     "metadata": {},
     "output_type": "execute_result"
    }
   ],
   "source": [
    "function matmul_cache_blocking!(C, A, B; col_blksize=16, row_blksize=128, k_blksize=16)\n",
    "    @assert size(C) == size(A) == size(B)\n",
    "    @assert size(C, 1) == size(C, 2)\n",
    "    n = size(C, 1)\n",
    "    fill!(C, zero(eltype(C)))\n",
    "\n",
    "    # - c: for columns of B and C\n",
    "    # - r: for rows    of A and C\n",
    "    # - k: for columns of A and rows of B\n",
    "    for ic in 1:col_blksize:n\n",
    "        for ir in 1:row_blksize:n\n",
    "            for ik in 1:k_blksize:n\n",
    "                #\n",
    "                # begin: cache blocking\n",
    "                #\n",
    "                for jc in ic:min(ic + col_blksize - 1, n)\n",
    "                    for jk in ik:min(ik + k_blksize - 1, n)\n",
    "                        @inbounds b = B[jk, jc]\n",
    "                        for jr in ir:min(ir + row_blksize - 1, n)\n",
    "                            @inbounds C[jr, jc] += A[jr, jk] * b\n",
    "                        end\n",
    "                    end\n",
    "                end\n",
    "                #\n",
    "                # end: cache blocking\n",
    "                #\n",
    "            end\n",
    "        end\n",
    "    end\n",
    "    return C\n",
    "end"
   ]
  },
  {
   "cell_type": "code",
   "execution_count": 89,
   "id": "738042b4-3c53-4907-b93c-4dd943886e3b",
   "metadata": {
    "tags": []
   },
   "outputs": [
    {
     "data": {
      "text/plain": [
       "\u001b[32m\u001b[1mTest Passed\u001b[22m\u001b[39m"
      ]
     },
     "execution_count": 89,
     "metadata": {},
     "output_type": "execute_result"
    }
   ],
   "source": [
    "@test matmul_cache_blocking!(C, A, B) ≈ mul!(C, A, B)"
   ]
  },
  {
   "cell_type": "markdown",
   "id": "04a054cc-9667-43d5-8101-309e20cf010e",
   "metadata": {},
   "source": [
    "4) Inspect the given variant `matmul_cache_blocking!` which implements cache blocking.\n",
    "    * In which limit, that is, for what block size values, does the code semantically reduce to your code in 3)?\n",
    "    * Staying away from these limits, how can this implementation be faster?\n",
    "    \n",
    "**Answer:**\n",
    "* For `c_blksize = r_blksize = k_blksize = 1` and `c_blksize = r_blksize = k_blksize = n`.\n",
    "* By operating on blocks that, ideally, fit into L1 or L2 cache, we maximize fast data reuse (temporal locality).\n",
    "\n",
    "5) Benchmark the cache blocking variant. Specifically, we consider `c_blksize = 16`, `r_blksize = 128` and `k_blksize = 16` for the block sizes (default values).\n",
    "    * Can you give an argument why it makes sense to choose `r_blksize` larger than the others?\n",
    "    * How big (in bytes) are the blocks for `A` and `C` for these values? How does this compare to the L1 cache size of 32 KiB?\n",
    "    \n",
    "**Answer:**\n",
    "* Julia arrays are column-major order which aligns with the row index `r`.\n",
    "* Both blocks (`r_blksize * k_blksize` for A and `r_blksize * c_blksize` for C) are 16 * 128 * 8 bytes = 16 KiB big. Hence, they fit into L1 cache together.    "
   ]
  },
  {
   "cell_type": "code",
   "execution_count": 96,
   "id": "687a0259-19bb-4a2b-babe-1c71b5dce954",
   "metadata": {
    "tags": []
   },
   "outputs": [
    {
     "name": "stdout",
     "output_type": "stream",
     "text": [
      "matmul_cache!: 0.02180033 sec, performance = 12.31 GFLOP/s\n"
     ]
    }
   ],
   "source": [
    "#\n",
    "# TODO: Benchmark matmul_cache_blocking! like above\n",
    "#\n",
    "t_cache = @belapsed matmul_cache_blocking!($C, $A, $B) samples = 1 evals = 2\n",
    "println(\"matmul_cache!: \", t_cache, \" sec, performance = \", round(2.0e-9 * N^3 / t_cache, digits=2), \" GFLOP/s\")"
   ]
  },
  {
   "cell_type": "markdown",
   "id": "e92e6eb4-6ef5-4ea5-920c-a058fd0e7705",
   "metadata": {},
   "source": [
    "6) Compare the performance of the cache-blocking variant to the built-in BLAS matrix multiply, i.e. `mul!(C, A, B)`."
   ]
  },
  {
   "cell_type": "code",
   "execution_count": 97,
   "id": "aa123214-113e-4e66-b268-a82dc5790fb7",
   "metadata": {
    "tags": []
   },
   "outputs": [
    {
     "name": "stdout",
     "output_type": "stream",
     "text": [
      "matmul_cache!: 0.0073317455 sec, performance = 36.61 GFLOP/s\n"
     ]
    }
   ],
   "source": [
    "#\n",
    "# TODO: Benchmark mul! like above\n",
    "#\n",
    "t_cache = @belapsed mul!($C, $A, $B) samples = 1 evals = 2\n",
    "println(\"matmul_cache!: \", t_cache, \" sec, performance = \", round(2.0e-9 * N^3 / t_cache, digits=2), \" GFLOP/s\")"
   ]
  },
  {
   "cell_type": "markdown",
   "id": "fc4a9663-60d3-4a1f-9ebb-048815eca436",
   "metadata": {},
   "source": [
    "7) **Bonus task:** vary the block sizes (in powers of 2) and see how the performance changes. (**This might take > 20 minutes.**)"
   ]
  },
  {
   "cell_type": "code",
   "execution_count": null,
   "id": "6008dcd3-70a0-4be6-b189-1b6216dbf2dd",
   "metadata": {
    "tags": []
   },
   "outputs": [],
   "source": [
    "println(\"Varying block sizes:\")\n",
    "L1 = cachesize()[1]\n",
    "for cbs in (4, 8, 16, 32, 64), kbs in (4, 8, 16, 32, 64), rbs in (4, 128, 256, 512)\n",
    "    if rbs * kbs + rbs * cbs > L1 / 8\n",
    "        # A block and C block don't fit into L1 cache together\n",
    "        continue\n",
    "    end\n",
    "    t_cache_block = @belapsed matmul_cache_blocking!($C, $A, $B; col_blksize=$cbs, row_blksize=$rbs, k_blksize=$kbs) samples = 3 evals = 2\n",
    "    println(\"matmul_cache_block ($cbs, $rbs, $kbs): \", t_cache_block, \" sec, performance = \", round(2.0e-9 * N^3 / t_cache_block, digits=2), \" GFLOPS\\n\")\n",
    "end"
   ]
  }
 ],
 "metadata": {
  "kernelspec": {
   "display_name": "Julia 1.10.5",
   "language": "julia",
   "name": "julia-1.10"
  },
  "language_info": {
   "file_extension": ".jl",
   "mimetype": "application/julia",
   "name": "julia",
   "version": "1.10.5"
  }
 },
 "nbformat": 4,
 "nbformat_minor": 5
}
