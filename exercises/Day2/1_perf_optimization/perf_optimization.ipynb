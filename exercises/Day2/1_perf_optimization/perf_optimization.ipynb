{
 "cells": [
  {
   "cell_type": "markdown",
   "metadata": {},
   "source": [
    "# Exercise: Performance Optimization"
   ]
  },
  {
   "cell_type": "markdown",
   "metadata": {},
   "source": [
    "Optimize the following function."
   ]
  },
  {
   "cell_type": "code",
   "execution_count": 4,
   "metadata": {
    "tags": []
   },
   "outputs": [
    {
     "data": {
      "text/plain": [
       "work! (generic function with 1 method)"
      ]
     },
     "execution_count": 4,
     "metadata": {},
     "output_type": "execute_result"
    }
   ],
   "source": [
    "function work!(A, B, v)\n",
    "    @assert size(A) == size(B)\n",
    "    val = zero(eltype(v))\n",
    "    for i in 1:N\n",
    "        val = mod(v[i],256)\n",
    "        A[i,1:N] = B[i,1:N] * (sin(val) * sin(val) - cos(val) * cos(val))\n",
    "    end\n",
    "    return A\n",
    "end"
   ]
  },
  {
   "cell_type": "markdown",
   "metadata": {},
   "source": [
    "The following data is **fixed** and **not supposed to be modified**!"
   ]
  },
  {
   "cell_type": "code",
   "execution_count": 5,
   "metadata": {
    "tags": []
   },
   "outputs": [],
   "source": [
    "# do not modify this cell!\n",
    "\n",
    "using Random\n",
    "Random.seed!(42)\n",
    "\n",
    "N = 8000\n",
    "B = rand(N,N)\n",
    "v = rand(Int, N);\n",
    "\n",
    "const result = work!(zeros(N,N), B, v);\n",
    "\n",
    "# do not modify this cell!"
   ]
  },
  {
   "cell_type": "markdown",
   "metadata": {},
   "source": [
    "You can compare against `A_result` to test your implementation(s):"
   ]
  },
  {
   "cell_type": "code",
   "execution_count": 6,
   "metadata": {
    "tags": []
   },
   "outputs": [
    {
     "data": {
      "text/plain": [
       "\u001b[32m\u001b[1mTest Passed\u001b[22m\u001b[39m"
      ]
     },
     "execution_count": 6,
     "metadata": {},
     "output_type": "execute_result"
    }
   ],
   "source": [
    "using Test\n",
    "\n",
    "@test work!(zeros(N,N), B, v) ≈ result"
   ]
  },
  {
   "cell_type": "markdown",
   "metadata": {},
   "source": [
    "You can benchmark as follows:"
   ]
  },
  {
   "cell_type": "code",
   "execution_count": 7,
   "metadata": {
    "tags": []
   },
   "outputs": [
    {
     "name": "stdout",
     "output_type": "stream",
     "text": [
      "  984.368 ms (134979 allocations: 979.23 MiB)\n"
     ]
    }
   ],
   "source": [
    "using BenchmarkTools\n",
    "\n",
    "@btime work!(A, $B, $v) setup=(A=zeros(N,N)); # or use @benchmark for more information"
   ]
  },
  {
   "cell_type": "markdown",
   "metadata": {},
   "source": [
    "## Your Optimizations"
   ]
  },
  {
   "cell_type": "markdown",
   "metadata": {},
   "source": [
    "Your optimized variants go here!\n",
    "\n",
    "**Hints** (hopefully):\n",
    "* What is suboptimal about the code? What is it that you'd want to change (but can't directly)?\n",
    "* Sometimes writing the code in a different way doesn't give direct speedups but enables further optimization.\n",
    "* A ~30x speedup should be possible on most systems 😉"
   ]
  },
  {
   "cell_type": "code",
   "execution_count": 8,
   "metadata": {},
   "outputs": [
    {
     "data": {
      "text/plain": [
       "work! (generic function with 1 method)"
      ]
     },
     "execution_count": 8,
     "metadata": {},
     "output_type": "execute_result"
    }
   ],
   "source": [
    "# Your variants go here...\n",
    "\n",
    "function work!(A, B, v)\n",
    "    @assert size(A) == size(B)\n",
    "    val = zeros(Float64, size(v))\n",
    "\n",
    "    @. val = - cos(2.0 * mod(v, 256))\n",
    "    @. A = B * val\n",
    "\n",
    "    return A\n",
    "end"
   ]
  },
  {
   "cell_type": "code",
   "execution_count": 9,
   "metadata": {},
   "outputs": [
    {
     "data": {
      "text/plain": [
       "\u001b[32m\u001b[1mTest Passed\u001b[22m\u001b[39m"
      ]
     },
     "execution_count": 9,
     "metadata": {},
     "output_type": "execute_result"
    }
   ],
   "source": [
    "@test work!(zeros(N,N), B, v) ≈ result"
   ]
  },
  {
   "cell_type": "code",
   "execution_count": 10,
   "metadata": {},
   "outputs": [
    {
     "name": "stdout",
     "output_type": "stream",
     "text": [
      "  66.993 ms (2 allocations: 62.55 KiB)\n"
     ]
    }
   ],
   "source": [
    "@btime work!(A, $B, $v) setup=(A=zeros(N,N)); # or use @benchmark for more information"
   ]
  },
  {
   "cell_type": "code",
   "execution_count": 70,
   "metadata": {},
   "outputs": [
    {
     "data": {
      "text/latex": [
       "$$ \\begin{equation}\n",
       " - \\cos\\left( 2 x \\right)\n",
       "\\end{equation}\n",
       " $$"
      ],
      "text/plain": [
       "-cos(2x)"
      ]
     },
     "execution_count": 70,
     "metadata": {},
     "output_type": "execute_result"
    }
   ],
   "source": [
    "using Symbolics\n",
    "@variables x\n",
    "simplify(sin(x) * sin(x) - cos(x) * cos(x))\n"
   ]
  },
  {
   "cell_type": "markdown",
   "metadata": {},
   "source": [
    "## Bonus Question: Performance limit?\n",
    "\n",
    "Look at your final optimized version of `work!`.\n",
    "\n",
    "* In the limit of larger `A` and `B`, what is conceptually limiting the performance, the compute capability or memory transfer (i.e. reading and writing `A` and `B`)?"
   ]
  },
  {
   "cell_type": "markdown",
   "metadata": {},
   "source": [
    "Let's try to quickly estimate the maximal memory bandwidth that a single-CPU core can achieve on the given computer:"
   ]
  },
  {
   "cell_type": "code",
   "execution_count": 11,
   "metadata": {},
   "outputs": [
    {
     "data": {
      "text/plain": [
       "27.4223"
      ]
     },
     "execution_count": 11,
     "metadata": {},
     "output_type": "execute_result"
    }
   ],
   "source": [
    "using STREAMBenchmark\n",
    "membw = memory_bandwidth(; nthreads=1).median / 1000 # memory bandwidth in GB /s"
   ]
  },
  {
   "cell_type": "markdown",
   "metadata": {},
   "source": [
    "For references, a single CPU-core in [Noctua 2](https://pc2.uni-paderborn.de/systems-and-services/noctua-2) can achieve a **maximal memory bandwidth of ~45 GB/s**."
   ]
  },
  {
   "cell_type": "markdown",
   "metadata": {},
   "source": [
    "* Given the maximal memory bandwidth, can you give a performance bound estimate, i.e. the minimal runtime that we could possibly hope to achieve?\n",
    "  * Hint: how many flops are performed per iteration and how many bytes are transferred?\n",
    "* How far off is your implementation from achieving the limit (in percent)?"
   ]
  },
  {
   "cell_type": "code",
   "execution_count": 12,
   "metadata": {},
   "outputs": [
    {
     "name": "stdout",
     "output_type": "stream",
     "text": [
      "Performance bound: 1.14 GFLOP/s\n",
      "Runtime estimate: 56.01 ms\n"
     ]
    }
   ],
   "source": [
    "# Your computation goes here...\n",
    "flops = 1 # flops per iteration\n",
    "traffic = 3*8 # bytes per iteration\n",
    "I = flops / traffic # flops / byte\n",
    "\n",
    "perf_bound = I*membw # GFLOPS\n",
    "runtime_estimate = N^2 * 1e3 / (perf_bound * 1e9) # in ms\n",
    "\n",
    "println(\"Performance bound: \", round(perf_bound, digits=2), \" GFLOP/s\")\n",
    "println(\"Runtime estimate: \", round(runtime_estimate, digits=2), \" ms\")"
   ]
  },
  {
   "cell_type": "code",
   "execution_count": 14,
   "metadata": {},
   "outputs": [
    {
     "name": "stdout",
     "output_type": "stream",
     "text": [
      "My best version achieves 83.53% of the limit.\n"
     ]
    }
   ],
   "source": [
    "t_work5 = @belapsed work!(A, $B, $v) setup=(A=zeros(N,N))\n",
    "ratio = runtime_estimate / (t_work5 * 1e3)\n",
    "println(\"My best version achieves \", round(ratio * 100, digits=2), \"% of the limit.\")"
   ]
  },
  {
   "cell_type": "code",
   "execution_count": null,
   "metadata": {},
   "outputs": [],
   "source": []
  }
 ],
 "metadata": {
  "@webio": {
   "lastCommId": null,
   "lastKernelId": null
  },
  "kernelspec": {
   "display_name": "Julia 1.10.5",
   "language": "julia",
   "name": "julia-1.10"
  },
  "language_info": {
   "file_extension": ".jl",
   "mimetype": "application/julia",
   "name": "julia",
   "version": "1.10.5"
  }
 },
 "nbformat": 4,
 "nbformat_minor": 4
}
